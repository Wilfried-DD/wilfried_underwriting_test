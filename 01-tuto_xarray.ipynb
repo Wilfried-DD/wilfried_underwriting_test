{
 "cells": [
  {
   "cell_type": "markdown",
   "id": "19e326b3",
   "metadata": {},
   "source": [
    "# 01 - Tuto xarray"
   ]
  },
  {
   "cell_type": "markdown",
   "id": "e990bc7c",
   "metadata": {},
   "source": [
    "This notebook is set to familiarize with the `xarray` package that you will have to use in other notebooks."
   ]
  },
  {
   "cell_type": "markdown",
   "id": "ba16fbcc",
   "metadata": {},
   "source": [
    "## Constraints\n",
    "\n",
    "+ 🚨 Only cells with the comment `# NOTE: Fill me!` should be filled\n",
    "+ 🚨 Notebook should be saved and commited **with** outputs for the submission\n",
    "\n",
    "\n",
    "+ ⚠️ The solution only requires packages listed in the `requirements/requirements.txt`\n",
    "\n",
    "## Note\n",
    "\n",
    "+ The `assert` statements in the notebook are here to guide the project.\n",
    "However, successful `assert` statements does not guarantee that your code is correct.\n"
   ]
  },
  {
   "cell_type": "code",
   "execution_count": null,
   "id": "a4e91369",
   "metadata": {},
   "outputs": [],
   "source": [
    "!pip install -r requirements/requirements.txt"
   ]
  },
  {
   "cell_type": "code",
   "execution_count": null,
   "id": "e99995fd",
   "metadata": {},
   "outputs": [],
   "source": [
    "import xarray as xr\n",
    "import pandas as pd\n",
    "from pathlib import Path\n",
    "from datetime import datetime\n",
    "\n",
    "%reload_ext autoreload\n",
    "%autoreload 2"
   ]
  },
  {
   "cell_type": "markdown",
   "id": "21a0b754",
   "metadata": {},
   "source": [
    "# 1. Parameters"
   ]
  },
  {
   "cell_type": "code",
   "execution_count": null,
   "id": "4c862d49",
   "metadata": {},
   "outputs": [],
   "source": [
    "DATA_PATH = Path(\"data\")\n",
    "RASTER_PATH = DATA_PATH / \"rasters\"\n",
    "CSV_PATH = DATA_PATH / \"csv\""
   ]
  },
  {
   "cell_type": "markdown",
   "id": "4b9f01c8",
   "metadata": {},
   "source": [
    "# 2. Data"
   ]
  },
  {
   "cell_type": "markdown",
   "id": "5bc93610",
   "metadata": {},
   "source": [
    "## 2.1 Download data"
   ]
  },
  {
   "cell_type": "code",
   "execution_count": null,
   "id": "05d2a3d3",
   "metadata": {},
   "outputs": [],
   "source": [
    "raster_path = RASTER_PATH / \"raster_test.nc\""
   ]
  },
  {
   "cell_type": "markdown",
   "id": "9d66394e",
   "metadata": {},
   "source": [
    "## 2.2 Load data"
   ]
  },
  {
   "cell_type": "markdown",
   "id": "fd7b9ea0",
   "metadata": {},
   "source": [
    "`xarray` doc: https://tutorial.xarray.dev/intro.html"
   ]
  },
  {
   "cell_type": "markdown",
   "id": "11c59705",
   "metadata": {},
   "source": [
    "`xarray.DataArray` is xarray’s implementation of a labeled, multi-dimensional array. It has several key properties:\n",
    "\n",
    "- values: a numpy.ndarray holding the array’s values\n",
    "\n",
    "- dims: dimension names for each axis (e.g., ('x', 'y', 'z'))\n",
    "\n",
    "- coords: a dict-like container of arrays (coordinates) that label each point (e.g., 1-dimensional arrays of numbers, datetime objects or strings)\n",
    "\n",
    "- attrs: dict to hold arbitrary metadata (attributes)"
   ]
  },
  {
   "cell_type": "markdown",
   "id": "fd46cada",
   "metadata": {},
   "source": [
    "`xarray.Dataset`\n",
    "\n",
    "A dict-like collection of `DataArray` objects with aligned dimensions. Thus, most operations that can be performed on the dimensions of a single `DataArray` can be performed on a dataset. Datasets have data variables (see Variable below), dimensions, coordinates, and attributes."
   ]
  },
  {
   "cell_type": "markdown",
   "id": "54aa1865",
   "metadata": {},
   "source": [
    "⚠️ **In the following and in all notebooks, the term raster will denominate a `xarray.DataArray` or `xarray.Dataset`** ⚠️"
   ]
  },
  {
   "cell_type": "code",
   "execution_count": null,
   "id": "b4828fe7",
   "metadata": {},
   "outputs": [],
   "source": [
    "raster = xr.load_dataset(raster_path).drop(\"spatial_ref\")\n",
    "raster"
   ]
  },
  {
   "cell_type": "markdown",
   "id": "ed98f0b2",
   "metadata": {},
   "source": [
    "Here the raster is composed of 3 coordinates (`longitude`, `latitude` and `time`) and has 2 variables:\n",
    "- `max_temp`: maximum temperature over one day\n",
    "- `avg_temp`: average temperature over one day"
   ]
  },
  {
   "cell_type": "markdown",
   "id": "ed202da2",
   "metadata": {},
   "source": [
    "# 3. Familiarize with xarray"
   ]
  },
  {
   "cell_type": "markdown",
   "id": "c04c1886",
   "metadata": {},
   "source": [
    "You can have a look at the xarray doc for indexing and selecting: https://docs.xarray.dev/en/stable/user-guide/indexing.html"
   ]
  },
  {
   "cell_type": "markdown",
   "id": "e7d9bf47",
   "metadata": {},
   "source": [
    "#### Let's now look at the variables: for example max_temp\n",
    "\n",
    "It is a `xarray.DataArray`"
   ]
  },
  {
   "cell_type": "code",
   "execution_count": null,
   "id": "d14283e2",
   "metadata": {},
   "outputs": [],
   "source": [
    "raster[\"max_temp\"]"
   ]
  },
  {
   "cell_type": "markdown",
   "id": "546854e4",
   "metadata": {},
   "source": [
    "Let's say we want to select the grid cell at position [0,0], then it becomes as follows:"
   ]
  },
  {
   "cell_type": "code",
   "execution_count": null,
   "id": "100a07b9",
   "metadata": {},
   "outputs": [],
   "source": [
    "raster[\"max_temp\"][dict(longitude=0, latitude=0)]"
   ]
  },
  {
   "cell_type": "markdown",
   "id": "05fa1118",
   "metadata": {},
   "source": [
    "And we can plot the timeseries over the year 2010:"
   ]
  },
  {
   "cell_type": "code",
   "execution_count": null,
   "id": "92d49ec5",
   "metadata": {},
   "outputs": [],
   "source": [
    "raster[\"max_temp\"][dict(longitude=0, latitude=0)].plot()"
   ]
  },
  {
   "cell_type": "markdown",
   "id": "e801ddda",
   "metadata": {},
   "source": [
    "If we now want to get the value for July, 1st of 2010:"
   ]
  },
  {
   "cell_type": "code",
   "execution_count": null,
   "id": "64377293",
   "metadata": {},
   "outputs": [],
   "source": [
    "raster[\"max_temp\"][dict(longitude=0, latitude=0)].sel(dict(time=datetime(2010, 7, 1))).values"
   ]
  },
  {
   "cell_type": "markdown",
   "id": "b2cc33aa",
   "metadata": {},
   "source": [
    "#### Similarly, let's say, we have the coordinates (longitude and latitude) of a point and we want to know the min and mean temperature on the 5th of December 2010:"
   ]
  },
  {
   "cell_type": "markdown",
   "id": "f57d79c1",
   "metadata": {},
   "source": [
    "The coordinates here at in the geodesic Coordinate reference system (CRS)\n",
    "\n",
    "For more info on CRS, please have a look at: https://docs.qgis.org/3.22/en/docs/gentle_gis_introduction/coordinate_reference_systems.html"
   ]
  },
  {
   "cell_type": "code",
   "execution_count": null,
   "id": "c5440074",
   "metadata": {},
   "outputs": [],
   "source": [
    "point_latitude = -42.5776\n",
    "point_longitude = 147.3224\n",
    "point_date = datetime(2010, 12, 5)"
   ]
  },
  {
   "cell_type": "code",
   "execution_count": null,
   "id": "5850b9f4",
   "metadata": {},
   "outputs": [],
   "source": [
    "raster.sel(\n",
    "    dict(longitude=point_longitude, latitude=point_latitude, time=point_date),\n",
    "    method=\"nearest\",\n",
    ")"
   ]
  },
  {
   "cell_type": "markdown",
   "id": "7cf0a05d",
   "metadata": {},
   "source": [
    "And let's say, you want to access the mean temperature:"
   ]
  },
  {
   "cell_type": "code",
   "execution_count": null,
   "id": "39b874fa",
   "metadata": {},
   "outputs": [],
   "source": [
    "point_avg_temp = raster.sel(\n",
    "    dict(longitude=point_longitude, latitude=point_latitude, time=point_date),\n",
    "    method=\"nearest\",\n",
    ")[\"avg_temp\"].values\n",
    "point_avg_temp"
   ]
  },
  {
   "cell_type": "markdown",
   "id": "df7bf05e",
   "metadata": {},
   "source": [
    "# 4. Task\n",
    "\n",
    "Your task here is to find the corresponding features associated to an ignition point. More precisely, you need to determine the elevation, population density, maximum and average temperature at the location of the ignition point and the day it occurred."
   ]
  },
  {
   "cell_type": "markdown",
   "id": "3e6729e8",
   "metadata": {},
   "source": [
    "## 4.1 Load data"
   ]
  },
  {
   "cell_type": "markdown",
   "id": "3233001f",
   "metadata": {},
   "source": [
    "### 4.1.1 Rasters"
   ]
  },
  {
   "cell_type": "code",
   "execution_count": null,
   "id": "3f73bdb6",
   "metadata": {},
   "outputs": [],
   "source": [
    "topo_path = RASTER_PATH / \"topo.nc\"\n",
    "weather_path = RASTER_PATH / \"weather.nc\""
   ]
  },
  {
   "cell_type": "code",
   "execution_count": null,
   "id": "83d4eb34",
   "metadata": {},
   "outputs": [],
   "source": [
    "topo_xr = xr.load_dataset(topo_path)\n",
    "weather_xr = xr.load_dataset(weather_path)"
   ]
  },
  {
   "cell_type": "markdown",
   "id": "f0d4aa2b",
   "metadata": {},
   "source": [
    "### 4.1.2 Ignition point"
   ]
  },
  {
   "cell_type": "code",
   "execution_count": null,
   "id": "e2281da6",
   "metadata": {},
   "outputs": [],
   "source": [
    "ignition_point_path = CSV_PATH / \"ignition_points.csv\""
   ]
  },
  {
   "cell_type": "code",
   "execution_count": null,
   "id": "6c53274d",
   "metadata": {},
   "outputs": [],
   "source": [
    "df_ignition = pd.read_csv(ignition_point_path, index_col=0)\n",
    "df_ignition"
   ]
  },
  {
   "cell_type": "markdown",
   "id": "48b19bf4",
   "metadata": {},
   "source": [
    "## 4.2 Map features\n",
    "\n",
    "🚨 You need to complement the dataframe with the raster features. 🚨\n",
    "\n",
    "You need to use the 2 rasters and extract the information corresponding to the ignition point. You have to determine the elevation, population density, maximum and average temperature at the location of the ignition point at the time of ignition.\n",
    "\n",
    "The expected result is shown below:"
   ]
  },
  {
   "cell_type": "code",
   "execution_count": null,
   "id": "b13f2c34",
   "metadata": {},
   "outputs": [],
   "source": [
    "# NOTE: Fill me\n",
    "\n",
    "df_ignition = \"fill with proper dataframe\""
   ]
  },
  {
   "cell_type": "code",
   "execution_count": null,
   "id": "3fe3e8fc",
   "metadata": {},
   "outputs": [],
   "source": [
    "expected_dataframe = pd.DataFrame(\n",
    "    {\n",
    "        \"Date\": {0: \"2002-11-11\"},\n",
    "        \"latitude\": {0: -42.6},\n",
    "        \"longitude\": {0: 147.5},\n",
    "        \"elevation\": {0: 388},\n",
    "        \"pop_dens\": {0: 2.5},\n",
    "        \"max_temp\": {0: 19.3},\n",
    "        \"avg_temp\": {0: 4.9},\n",
    "    }\n",
    ")"
   ]
  },
  {
   "cell_type": "code",
   "execution_count": null,
   "id": "e16e91ea",
   "metadata": {},
   "outputs": [],
   "source": [
    "pd.testing.assert_frame_equal(df_ignition, expected_dataframe, rtol=1e-2)"
   ]
  },
  {
   "cell_type": "markdown",
   "id": "c8f8cd26",
   "metadata": {},
   "source": [
    "---\n",
    "\n",
    "# END OF SCRIPT"
   ]
  }
 ],
 "metadata": {
  "kernelspec": {
   "display_name": "ignis_venv",
   "language": "python",
   "name": "ignis_venv"
  },
  "language_info": {
   "codemirror_mode": {
    "name": "ipython",
    "version": 3
   },
   "file_extension": ".py",
   "mimetype": "text/x-python",
   "name": "python",
   "nbconvert_exporter": "python",
   "pygments_lexer": "ipython3",
   "version": "3.10.6"
  }
 },
 "nbformat": 4,
 "nbformat_minor": 5
}
