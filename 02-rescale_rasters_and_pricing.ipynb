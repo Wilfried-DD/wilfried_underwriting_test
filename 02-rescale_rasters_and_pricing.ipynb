{
 "cells": [
  {
   "cell_type": "markdown",
   "metadata": {},
   "source": [
    "# Pricing : excess of rain cover"
   ]
  },
  {
   "cell_type": "code",
   "execution_count": null,
   "metadata": {},
   "outputs": [],
   "source": [
    "from pathlib import Path\n",
    "import pandas as pd\n",
    "import numpy as np\n",
    "import xarray as xr\n",
    "from numpy.testing import assert_allclose\n",
    "import matplotlib.pyplot as plt\n",
    "\n",
    "%reload_ext autoreload\n",
    "%autoreload 2"
   ]
  },
  {
   "cell_type": "markdown",
   "metadata": {},
   "source": [
    "# Context"
   ]
  },
  {
   "cell_type": "markdown",
   "metadata": {},
   "source": [
    "A client is looking to be covered against excess of rain.\n",
    "\n",
    "You will first manipulate rasters and then use historical data to understand the risk."
   ]
  },
  {
   "cell_type": "markdown",
   "metadata": {},
   "source": [
    "# 1. Parameters"
   ]
  },
  {
   "cell_type": "code",
   "execution_count": null,
   "metadata": {},
   "outputs": [],
   "source": [
    "DATA_PATH = Path(\"data\")\n",
    "RASTERS_PATH = DATA_PATH / \"rasters\""
   ]
  },
  {
   "cell_type": "markdown",
   "metadata": {},
   "source": [
    "# 2. Data"
   ]
  },
  {
   "cell_type": "markdown",
   "metadata": {},
   "source": [
    "## 2.1 Load data"
   ]
  },
  {
   "cell_type": "code",
   "execution_count": null,
   "metadata": {},
   "outputs": [],
   "source": [
    "vegetation_path = RASTERS_PATH / \"vegetation.nc\"\n",
    "precipitation_path = RASTERS_PATH / \"precipitation.nc\""
   ]
  },
  {
   "cell_type": "code",
   "execution_count": null,
   "metadata": {},
   "outputs": [],
   "source": [
    "vegetation_xr = xr.load_dataset(vegetation_path)\n",
    "precipitation_xr = xr.load_dataset(precipitation_path)"
   ]
  },
  {
   "cell_type": "markdown",
   "metadata": {},
   "source": [
    "## 2.2 Visualize data"
   ]
  },
  {
   "cell_type": "markdown",
   "metadata": {},
   "source": [
    "Let's look at the coordinates values:"
   ]
  },
  {
   "cell_type": "code",
   "execution_count": null,
   "metadata": {},
   "outputs": [],
   "source": [
    "print(vegetation_xr.latitude.values[:2])"
   ]
  },
  {
   "cell_type": "markdown",
   "metadata": {},
   "source": [
    "The coordinate reference system (crs) here is named an equal-area crs which means that the areas are preserved when projecting the earth to a plane. The unit of the coordinates is **meters**. See more info [there](https://en.wikipedia.org/wiki/Spatial_reference_system)."
   ]
  },
  {
   "cell_type": "code",
   "execution_count": null,
   "metadata": {},
   "outputs": [],
   "source": [
    "precipitation_xr"
   ]
  },
  {
   "cell_type": "markdown",
   "metadata": {},
   "source": [
    "One can notice that the precipitation raster has time variable. We then have access of cumulative daily precipitation data since the 1st of January 1950"
   ]
  },
  {
   "cell_type": "code",
   "execution_count": null,
   "metadata": {},
   "outputs": [],
   "source": [
    "fig, ax = plt.subplots(1, 2, figsize=(14, 6))\n",
    "vegetation_xr.vegetation.plot(ax=ax[0])\n",
    "ax[0].set_title(\"Vegetation class\")\n",
    "precipitation_xr.precipitation[dict(time=3)].plot(ax=ax[1])\n",
    "ax[1].set_title(\"Daily precipitation (mm)\")\n",
    "ax[1].set_xlabel(\"longitude\")\n",
    "ax[1].set_ylabel(\"latitude\")\n",
    "plt.tight_layout()\n",
    "plt.show()"
   ]
  },
  {
   "cell_type": "markdown",
   "metadata": {},
   "source": [
    "The vegetation raster is a gridded array of categorical values with information on the type of the dominant vegetation of each pixel.\n",
    "\n",
    "    - Class 90 : Water and urban areas\n",
    "    - Class 100: Herbaceous class\n",
    "    - Class 110: Shrubland class\n",
    "    - Class 120: Forest class\n",
    "    \n",
    "For example, the pixel at location (longitude 1277929.24, latitude -4758284.41) displays a value of 110, meaning that the dominant vegetation at this location is shrubland."
   ]
  },
  {
   "cell_type": "markdown",
   "metadata": {},
   "source": [
    "#### What is each raster's resolution (in meters)?\n",
    "\n",
    "The resolution is defined as the distance between the centres of 2 neighbour pixels."
   ]
  },
  {
   "cell_type": "code",
   "execution_count": null,
   "metadata": {},
   "outputs": [],
   "source": [
    "# NOTE: fill me!\n",
    "\n",
    "vegetation_resolution = \"fill with proper int\"\n",
    "precipitation_resolution = \"fill with proper int\""
   ]
  },
  {
   "cell_type": "code",
   "execution_count": null,
   "metadata": {},
   "outputs": [],
   "source": [
    "assert isinstance(vegetation_resolution, int)\n",
    "assert isinstance(precipitation_resolution, int)"
   ]
  },
  {
   "cell_type": "markdown",
   "metadata": {},
   "source": [
    "# 3. Manipulate rasters"
   ]
  },
  {
   "cell_type": "markdown",
   "metadata": {},
   "source": [
    "### 3.1 Change rasters' resolution"
   ]
  },
  {
   "cell_type": "markdown",
   "metadata": {},
   "source": [
    "Your task is to get the precipitation for all grid cells in the forest class (value of 120). Unfortunately, the 2 rasters do not have the same resolution. Your task will be to reindex the 2 rasters at the **same** resolution."
   ]
  },
  {
   "cell_type": "markdown",
   "metadata": {},
   "source": [
    "The resolution of each raster should be the finest one out of the 2 intial datasets.\n",
    "\n",
    "To downscale (move from coarse to finer resolution), you will use the function `xarray.interp()`: https://docs.xarray.dev/en/stable/generated/xarray.DataArray.interp.html"
   ]
  },
  {
   "cell_type": "code",
   "execution_count": null,
   "metadata": {},
   "outputs": [],
   "source": [
    "# NOTE: fill me!\n",
    "\n",
    "vegetation_downscaled_xr = \"fill with proper raster\"\n",
    "precipitation_downscaled_xr = \"fill with proper raster\""
   ]
  },
  {
   "cell_type": "code",
   "execution_count": null,
   "metadata": {},
   "outputs": [],
   "source": [
    "assert isinstance(vegetation_downscaled_xr, xr.Dataset)\n",
    "assert isinstance(precipitation_downscaled_xr, xr.Dataset)"
   ]
  },
  {
   "cell_type": "markdown",
   "metadata": {},
   "source": [
    "## 3.2 Compute mean precipitation"
   ]
  },
  {
   "cell_type": "markdown",
   "metadata": {},
   "source": [
    "The client has forests that span over all the area showed by the raster, which means that all grid cells in forest class belong to the client."
   ]
  },
  {
   "cell_type": "markdown",
   "metadata": {},
   "source": [
    "**Task**\n",
    "\n",
    "Your task is to compute the mean daily precipitation for grid cells only in **forest class**. You may want to use the function [`xarray.where()`](https://docs.xarray.dev/en/stable/generated/xarray.where.html).\n",
    "\n",
    "The output will be a dataframe `df_rain_historical` with the dates as index with name `Date` and the column daily precipitation renamed `daily_rain`. You could use the function [`xarray.to_dataframe()`](https://docs.xarray.dev/en/stable/generated/xarray.DataArray.to_dataframe.html)"
   ]
  },
  {
   "cell_type": "code",
   "execution_count": null,
   "metadata": {},
   "outputs": [],
   "source": [
    "# NOTE: fill me!"
   ]
  },
  {
   "cell_type": "code",
   "execution_count": null,
   "metadata": {},
   "outputs": [],
   "source": [
    "expected_values = np.array([0.0, 0.0, 5.9, 2.3, 0.0])\n",
    "np.testing.assert_allclose(df_rain_historical[\"daily_rain\"].values[:5], expected_values, rtol=1e-5)\n",
    "\n",
    "assert df_rain_historical.index.name == \"Date\""
   ]
  },
  {
   "cell_type": "markdown",
   "metadata": {},
   "source": [
    "## 3.3 Next steps"
   ]
  },
  {
   "cell_type": "markdown",
   "metadata": {},
   "source": [
    "The previous task helped you to compute the daily precipitation for one day at the client's locations. We actually have access to 70 years of historical data and that's the object of the next steps. The data from the previous part has been extracted at the client location into a dataframe that you will use from now on"
   ]
  },
  {
   "cell_type": "markdown",
   "metadata": {},
   "source": [
    "# 4. Pricing"
   ]
  },
  {
   "cell_type": "markdown",
   "metadata": {},
   "source": [
    "## 4.1 Context\n",
    "\n",
    "The client is looking to be covered against excess of rain.\n",
    "\n",
    "The client wishes to receive a payout under the following conditions:\n",
    "+ Depends on the cumulative rainfall (mm) over the season.\n",
    "+ Linear payout starting at a deductible of 650 mm and limit of 750 mm with a payout of AUD 500,000.\n",
    "\n",
    "It means that \n",
    "+ If the cumulative rainfall is below 650 mm, the client receives nothing.\n",
    "+ If the cumulative rainfall is above 750 mm, the client receives the max payout of AUD 500,000 no matter the loss.\n",
    "+ If the cumulative rainfall is between 650 and 750 mm, the payout is linear, slope of AUD 5,000 per mm. For example, if the cumulative rainfall is 700 mm, the payout would be AUD 250,000.\n"
   ]
  },
  {
   "cell_type": "markdown",
   "metadata": {},
   "source": [
    "## 4.2 Data"
   ]
  },
  {
   "cell_type": "markdown",
   "metadata": {},
   "source": [
    "We have access to the cumulative rainfall (in millimeters-mm) each day since 1950 January 1st using the task before."
   ]
  },
  {
   "cell_type": "markdown",
   "metadata": {},
   "source": [
    "## 4.3 Preprocessing"
   ]
  },
  {
   "cell_type": "markdown",
   "metadata": {},
   "source": [
    "### 4.3.1 Filtering"
   ]
  },
  {
   "cell_type": "markdown",
   "metadata": {},
   "source": [
    "**Risk period**\n",
    "\n",
    "The client would like to be covered from the 1st of December of a given year until 1st of March of the following year (**not included**).\n",
    "\n",
    "**Task**\n",
    "- Filter the historical dates to keep only the ones in the risk periods. ⚠️ You should not have incomplete seasons. ⚠️\n",
    "- Remove the rows with the date equal to February 29th.\n",
    "- Create a `season` column, the value of the season is the year corresponding to the 1st of December. For example, for the given risk period 1st of December 2021 - 1st of March 2022, the season is 2021."
   ]
  },
  {
   "cell_type": "code",
   "execution_count": null,
   "metadata": {},
   "outputs": [],
   "source": [
    "# NOTE: fill me!"
   ]
  },
  {
   "cell_type": "code",
   "execution_count": null,
   "metadata": {},
   "outputs": [],
   "source": [
    "assert list(df_rain_historical.columns) == [\"daily_rain\", \"season\"]\n",
    "assert df_rain_historical[\"daily_rain\"].values[-1] == 0.0"
   ]
  },
  {
   "cell_type": "markdown",
   "metadata": {},
   "source": [
    "### 4.3.2 Regroup by season"
   ]
  },
  {
   "cell_type": "markdown",
   "metadata": {},
   "source": [
    "**Task**\n",
    "\n",
    "- Create a new dataframe `df_cum_rain` by regrouping by season and by computing the cumulative rainfall over the risk period.\n",
    "- Rename the column `daily_rain` by `cum_rain`."
   ]
  },
  {
   "cell_type": "code",
   "execution_count": null,
   "metadata": {},
   "outputs": [],
   "source": [
    "# NOTE: fill me!"
   ]
  },
  {
   "cell_type": "code",
   "execution_count": null,
   "metadata": {},
   "outputs": [],
   "source": [
    "assert_allclose(df_cum_rain[\"cum_rain\"].values[0], 682.5)"
   ]
  },
  {
   "cell_type": "markdown",
   "metadata": {},
   "source": [
    "## 4.4 Compute payouts"
   ]
  },
  {
   "cell_type": "markdown",
   "metadata": {},
   "source": [
    "Using the current values of `cum_rain`, we will now compute the historical payouts.\n",
    "\n",
    "**Task**\n",
    "- Design a function that computes the payouts using the structure defined above.\n",
    "- Compute historical payouts since 1950 by creating a new dataframe `df_historical_payouts` with column `hist_payouts`. \n",
    "\n",
    "The resulting mean value of historical payouts is called **burning cost** and corresponds to the mean payout the client would have received based on the historica data. This is an important metrics in the design of insurance covers."
   ]
  },
  {
   "cell_type": "code",
   "execution_count": null,
   "metadata": {},
   "outputs": [],
   "source": [
    "# NOTE: fill me!"
   ]
  },
  {
   "cell_type": "code",
   "execution_count": null,
   "metadata": {},
   "outputs": [],
   "source": [
    "assert_allclose(df_historical_payouts[\"hist_payouts\"].mean(), 26548, rtol=1)"
   ]
  },
  {
   "cell_type": "markdown",
   "metadata": {},
   "source": [
    "## 4.5 Weighting"
   ]
  },
  {
   "cell_type": "markdown",
   "metadata": {},
   "source": [
    "### 4.5.1 Year type"
   ]
  },
  {
   "cell_type": "markdown",
   "metadata": {},
   "source": [
    "We actually have access to historical yearly forecasts that states if the year was supposed to be rainy or not. There are 3 predictions:\n",
    "- neutral\n",
    "- dry\n",
    "- rainy\n",
    "\n",
    "All the information is stored in the dataframe `df_year_type`.\n",
    "\n",
    "We will use this information to compute a weighted payouts using next year forecast."
   ]
  },
  {
   "cell_type": "code",
   "execution_count": null,
   "metadata": {},
   "outputs": [],
   "source": [
    "year_type_data_path = DATA_PATH / \"pricing\" / \"year_type_historical.csv\""
   ]
  },
  {
   "cell_type": "code",
   "execution_count": null,
   "metadata": {},
   "outputs": [],
   "source": [
    "df_year_type = (\n",
    "    pd.read_csv(year_type_data_path, index_col=0)\n",
    "    .rename(columns={\"Year\": \"season\"})\n",
    "    .set_index(\"season\")\n",
    ")\n",
    "df_year_type.head()"
   ]
  },
  {
   "cell_type": "markdown",
   "metadata": {},
   "source": [
    "**Task**\n",
    "\n",
    "Do the same computation (historical payouts) for each of the year type (rainy, dry or neutral). Compute the burning cost of each of the year type. What can you observe ?"
   ]
  },
  {
   "cell_type": "code",
   "execution_count": null,
   "metadata": {},
   "outputs": [],
   "source": [
    "# NOTE: fill me!"
   ]
  },
  {
   "cell_type": "code",
   "execution_count": null,
   "metadata": {},
   "outputs": [],
   "source": [
    "assert abs(rainy_mean_payouts - 6020) < 10\n",
    "assert abs(dry_mean_payouts - 48000) < 100\n",
    "assert abs(neutral_mean_payouts - 26300) < 100"
   ]
  },
  {
   "cell_type": "markdown",
   "metadata": {},
   "source": [
    "### 4.5.2 Next year forecast"
   ]
  },
  {
   "cell_type": "markdown",
   "metadata": {},
   "source": [
    "The forecast for next year is given in terms of probability for each of the year types:"
   ]
  },
  {
   "cell_type": "code",
   "execution_count": null,
   "metadata": {},
   "outputs": [],
   "source": [
    "next_year_forecast = {\"dry\": 0.58, \"neutral\": 0.37, \"rainy\": 0.05}"
   ]
  },
  {
   "cell_type": "markdown",
   "metadata": {},
   "source": [
    "**Task**\n",
    "\n",
    "How would you leverage on these forecasts to better estimate the risk and adjust the burning cost ? "
   ]
  },
  {
   "cell_type": "code",
   "execution_count": null,
   "metadata": {},
   "outputs": [],
   "source": [
    "# NOTE: fill me!"
   ]
  },
  {
   "cell_type": "code",
   "execution_count": null,
   "metadata": {},
   "outputs": [],
   "source": [
    "assert abs(weighted_burning_cost - 37880) < 30"
   ]
  },
  {
   "cell_type": "markdown",
   "metadata": {},
   "source": [
    "---\n",
    "# END OF SCRIPT"
   ]
  }
 ],
 "metadata": {
  "interpreter": {
   "hash": "609562af67587eb35886a56b48a4672082ceee8e713b9609d77bf52ed55036ee"
  },
  "kernelspec": {
   "display_name": "agni_venv",
   "language": "python",
   "name": "agni_venv"
  },
  "language_info": {
   "codemirror_mode": {
    "name": "ipython",
    "version": 3
   },
   "file_extension": ".py",
   "mimetype": "text/x-python",
   "name": "python",
   "nbconvert_exporter": "python",
   "pygments_lexer": "ipython3",
   "version": "3.10.6"
  }
 },
 "nbformat": 4,
 "nbformat_minor": 2
}
