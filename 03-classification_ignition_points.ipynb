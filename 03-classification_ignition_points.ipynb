{
 "cells": [
  {
   "cell_type": "markdown",
   "id": "85a88ab1",
   "metadata": {},
   "source": [
    "# Classification ignition point \n",
    "\n",
    "This project is a classification problem\n",
    "\n",
    "It is to determine whether a point has a probability to be an ignition point for wildfire. The ignition point is where the wildfire starts. To know the probability where a fire would start is central at Descartes because it will help us to better simulate wildfires.\n",
    "\n",
    "Don't hesitate to contact us, if you have any doubts on what is asked or if you encounter errors while using the notebook."
   ]
  },
  {
   "cell_type": "code",
   "execution_count": null,
   "id": "d6059da4",
   "metadata": {},
   "outputs": [],
   "source": [
    "from pathlib import Path\n",
    "import pandas as pd"
   ]
  },
  {
   "cell_type": "code",
   "execution_count": null,
   "id": "0bbf8da0",
   "metadata": {},
   "outputs": [],
   "source": [
    "%reload_ext autoreload\n",
    "%autoreload 2"
   ]
  },
  {
   "cell_type": "markdown",
   "id": "89945628",
   "metadata": {},
   "source": [
    "# Parameters"
   ]
  },
  {
   "cell_type": "code",
   "execution_count": null,
   "id": "6552c490",
   "metadata": {},
   "outputs": [],
   "source": [
    "DATA_PATH = Path(\"data\")\n",
    "DATAFRAME_FOLDER_PATH = DATA_PATH / \"classification_dataframe\""
   ]
  },
  {
   "cell_type": "markdown",
   "id": "fc0d493a",
   "metadata": {},
   "source": [
    "# Download data"
   ]
  },
  {
   "cell_type": "code",
   "execution_count": null,
   "id": "3298c725",
   "metadata": {},
   "outputs": [],
   "source": [
    "dataframe_path = DATAFRAME_FOLDER_PATH / \"dataset.csv\""
   ]
  },
  {
   "cell_type": "code",
   "execution_count": null,
   "id": "016d769e",
   "metadata": {},
   "outputs": [],
   "source": [
    "df = pd.read_csv(dataframe_path, index_col=0)\n",
    "df.head()"
   ]
  },
  {
   "cell_type": "markdown",
   "id": "924476b3",
   "metadata": {},
   "source": [
    "# Structure of the dataframe and Task\n",
    "\n",
    "\n",
    "- Each row consists of an ignition or non-ignition point with the given features associated. The features were chosen as potentially influencing ignition.\n",
    "\n",
    "\n",
    "- The last column named `ignition` says if the point was a real ignition point (meaning that it occurred historically), in that case the value is `1`. Otherwise, when the value is `0`, it means that it is a 'non-ignition point'.\n",
    "\n",
    "\n",
    "- The columns `cropland` to `wetland` gives the ratio of each of the vegetation classes under which the ignition or non-ignition point lies. The sum of these ratios should be equal to 1. For more information refer to this website: https://lcviewer.vito.be/\n",
    "\n",
    "\n",
    "- The temperatures should be in degrees celsius `(°C)`.\n",
    "\n",
    "\n",
    "- The weather data come from different sources and they might have different units.\n",
    "\n",
    "| Column name | Definition | Unit |\n",
    "|--------|-----------|--------|\n",
    "| `ignition`   | Target column| Boolean: {1,0} |\n",
    "| `distance_{feature}` | Distance to nearest feature  |  Meters (m) |\n",
    "| vegetation class: from `cropland` to `wetland`  |  Ratio of each of the vegetation classes  under which the ignition or non-ignition point lies    |  No unit (between 0 and 1)  |\n",
    "| `aspect`  |  Orientation of the slope    |  Degrees (°)  |\n",
    "| `elevation`  |  elevation value    |  Meters  |\n",
    "| `slope`  |  Slope value    |  Degrees (°)  |\n",
    "| `pop_dens`  |  Population density value    |  Persons per km2  |\n",
    "| `max_temp`  |  Maximum temperature of the day    |  Degrees celsius (°C)  |\n",
    "| `avg_temp`  |  Average temperature of the day   |  Degrees celsius (°C)  |\n",
    "| `max_wind_vel`  |  Maximum wind velocity of the day    |  Meters per second (m/s)  |\n",
    "| `avg_wind_angle`  |  Average angle of the vector wind over the day    |  Degrees (°)  |\n",
    "| `avg_rel_hum`  |  Average relative humidity over the day    |  %  |\n",
    "| `avg_soil`  |  Average soil moisture of the day    |  m3/m3  |\n",
    "| `sum_prec`  |  Cumulative rainfall precipitation of the day    |  Millimeters (mm)  |\n",
    "| `yearly_avg_temp`  |  Average temperature over the year    |  Degrees celsius (°C)  |\n",
    "| `anom_{feature}`  |  Standardized anomaly of weather for the given day over the last 30 years. When the anomaly is positive, it means that the feature value is greater that the 30-year average    |  No unity |\n",
    "| `forest`  |  Sum of all the columns where the names start with `forest`   |  No unit  |\n",
    "| `vegetation_class`  |  Vegetation with the max occurrence in the vicinity of the ignition/non-ignition point    |  Without unit  |\n",
    "| `Year`  |  Year of ignition    |  Without unit  |\n",
    "| `max_max_temp`  |  Missing information    |  Missing information  |\n",
    "\n"
   ]
  },
  {
   "cell_type": "markdown",
   "id": "fb08f2a5",
   "metadata": {},
   "source": [
    "# Task\n",
    "\n",
    "\n",
    "🚨 **Your task is to design a classification algorithm to predict whether a point is an ignition point or not. The target column is `ignition`** 🚨\n",
    "\n",
    "You can import any package you want."
   ]
  }
 ],
 "metadata": {
  "kernelspec": {
   "display_name": "ignis_venv",
   "language": "python",
   "name": "ignis_venv"
  },
  "language_info": {
   "codemirror_mode": {
    "name": "ipython",
    "version": 3
   },
   "file_extension": ".py",
   "mimetype": "text/x-python",
   "name": "python",
   "nbconvert_exporter": "python",
   "pygments_lexer": "ipython3",
   "version": "3.10.6"
  }
 },
 "nbformat": 4,
 "nbformat_minor": 5
}
